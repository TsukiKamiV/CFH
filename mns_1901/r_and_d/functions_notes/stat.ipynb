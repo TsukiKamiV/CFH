{
 "cells": [
  {
   "cell_type": "markdown",
   "metadata": {
    "vscode": {
     "languageId": "c"
    }
   },
   "source": [
    "# La fonction stat\n",
    "----\n",
    "\n",
    "<br>\n",
    "\n",
    "#### **La fonction stat** est une fonction qui permet d'obtenir des informations sur un fichier. Ces informations sont stockées dans une structure avec le type `struct stat`. Elle contient plusieurs champs qui contiennent des informations qui seront détaillées dans la suite de ce document.\n",
    "\n",
    "#### Applications courantes : \n",
    "- Vérifier si un fichier existe.\n",
    "- Vérifier si un fichier est un répertoire ou un fichier.\n",
    "- Vérifier les permissions\n",
    "- Vérifier la taille d'un fichier\n",
    "\n",
    "> **Attention**, la fonction stat ne permet pas de vérifier si un fichier existe ou non. Il faut plutôt utiliser `access` ou `open` qu'on connait déjà. <br>\n",
    "> De plus, il faut s'assurer d'avoir les droits d'accès au fichier pour pouvoir obtenir des informations sur ce dernier.\n",
    "\n",
    "*A la différence de fstat et lstat, la fonction stat suit les liens symboliques et donc renvoie des informations sur le fichier cible du lien.*\n",
    "\n",
    "**\\#include <sys/stat.h>** <br>\n",
    "int stat(const char *pathname, struct stat *statbuf); <br>"
   ]
  },
  {
   "cell_type": "markdown",
   "metadata": {},
   "source": [
    "### Structure `struct stat`:\n",
    "```c\n",
    "struct stat {\n",
    "    dev_t     st_dev;      /* ID du périphérique contenant le fichier */\n",
    "    ino_t     st_ino;      /* Numéro inœud */\n",
    "    mode_t    st_mode;     /* Protection */\n",
    "    nlink_t   st_nlink;    /* Nb liens matériels */\n",
    "    uid_t     st_uid;      /* UID propriétaire */\n",
    "    gid_t     st_gid;      /* GID propriétaire */\n",
    "    dev_t     st_rdev;     /* ID périphérique (si fichier spécial) */\n",
    "    off_t     st_size;     /* Taille totale en octets */\n",
    "    blksize_t st_blksize;  /* Taille de bloc pour E/S */\n",
    "    blkcnt_t  st_blocks;   /* Nombre de blocs alloués */\n",
    "    time_t    st_atime;    /* Heure dernier accès */\n",
    "    time_t    st_mtime;    /* Heure dernière modification */\n",
    "    time_t    st_ctime;    /* Heure dernier changement état */\n",
    "};\n",
    "```\n",
    "> Des macros sont disponibles pour le champ `st_mode` afin d'obtenir des informations sur les droits d'accès, le type de fichier, etc. Voir liens ci-dessous. <br>\n",
    "> La structure ci-dessus n'est pas universelle et peut varier d'un système à un autre. Il semble y avoir d'autres valeurs accessibles."
   ]
  },
  {
   "cell_type": "markdown",
   "metadata": {},
   "source": [
    "## lstat et fstat\n",
    "\n",
    "- **lstat** : Comme stat, mais si le fichier est un lien symbolique, alors les informations sont celles du lien et non du fichier cible. On travaille sur la même structure `struct stat`.\n",
    "- **fstat** : Comme stat aussi, mais on travaille sur un descripteur de fichier et non sur un chemin. On travaille aussi sur la même structure `struct stat`. (int fstat(int fd, struct stat *buf);)"
   ]
  },
  {
   "cell_type": "markdown",
   "metadata": {},
   "source": [
    "https://fr.manpages.org/stat/2 <br>\n",
    "http://manpagesfr.free.fr/man/man2/stat.2.html"
   ]
  }
 ],
 "metadata": {
  "language_info": {
   "name": "python"
  }
 },
 "nbformat": 4,
 "nbformat_minor": 2
}
