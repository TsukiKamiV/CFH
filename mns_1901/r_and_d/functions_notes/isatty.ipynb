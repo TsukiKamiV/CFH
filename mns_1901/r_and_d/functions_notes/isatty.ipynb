{
 "cells": [
  {
   "cell_type": "markdown",
   "metadata": {},
   "source": [
    "# Fonction isatty\n",
    "---\n",
    "\n",
    "#### Fonction permettant de vérifier si un file descriptor est lié à un terminal ou non.\n",
    "> \\#include <unistd.h> <br>\n",
    "> int isatty(int fd);\n",
    "\n",
    "Retourne 1 si le file descriptor fd est lié à un terminal, 0 sinon. La fonction peut être utile pour vérifier si le terminal\n",
    "\n",
    "#### Usage :\n",
    "\n",
    "- Semble particulièrement utile lorsqu'on devra adapter le comportement de notre code en fonction des actions de l'utilisateur.\n",
    "- Par exemple, on pourrait vouloir afficher le prompt uniquement si l'entrée standard est un terminal (et non une redirection de fichier).\n",
    "- Cette fonction semble être utile pour sécuriser la gestion des signaux, par exemple en fonction du retour de isatty(STDIN_FILENO).\n",
    "\n",
    "> La fonction semble très importante pour être cohérent dans le comportement du minishell en fonction du contexte d'utilisation (terminal ou redirection).\n",
    "\n"
   ]
  },
  {
   "cell_type": "markdown",
   "metadata": {},
   "source": [
    "https://stackoverflow.com/questions/36258224/what-is-isatty-in-c-for <br>\n",
    "http://manpagesfr.free.fr/man/man3/isatty.3.html"
   ]
  },
  {
   "cell_type": "markdown",
   "metadata": {},
   "source": []
  }
 ],
 "metadata": {
  "language_info": {
   "name": "python"
  }
 },
 "nbformat": 4,
 "nbformat_minor": 2
}
