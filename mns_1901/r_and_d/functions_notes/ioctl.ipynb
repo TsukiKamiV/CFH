{
 "cells": [
  {
   "cell_type": "markdown",
   "metadata": {},
   "source": [
    "# La fonction ioctl (input/output control)\n",
    "---\n",
    "\n",
    "#### Permet de manipuler/collecter les informations sur les périphériques (comme les terminaux, les disques, les interfaces réseau, etc.)\n",
    "**Dans notre cas, on pourrait avoir besoin de cette fonction pour obtenir la taille du terminal et modifier l'affichage du prompt/historique ou autre en fonction de cette taille.**\n",
    "\n",
    "> \\#include <sys/ioctl.h> <br>\n",
    "> int ioctl(int fd, unsigned long request, ...);\n",
    "\n",
    "- fd : file descriptor\n",
    "- request : commande à exécuter sur le périphérique par exemple obtenir la taille du terminal, etc.\n",
    "- ... : arguments supplémentaires en fonction de request\n",
    "\n",
    "**Exemples de request :**\n",
    "- **TIOCGWINSZ** : pour obtenir la taille du terminal (à stocker dans une struct winsize)\n",
    "- **TCGETS** : pour obtenir les paramètres du terminal (à stocker dans une struct termios) (utilisé pour désactiver l'echo des caractères saisis par l'utilisateur par exemple)\n",
    "- **TCSETS** : pour modifier les paramètres du terminal de la même manière que TCGETS\n",
    "\n",
    "<br>\n",
    "\n",
    "> **ioctl est lié à tcgetattr et tcsetattr qui sont utilisés pour obtenir et modifier les paramètres du terminal respectivement. Et utilisent des structures termios pour stocker ces paramètres.** <br>\n",
    "\n",
    "- Cette fonction semble assez compliquée et va nécessiter un peu de temps pour la comprendre et l'utiliser correctement (je pense)\n"
   ]
  },
  {
   "cell_type": "markdown",
   "metadata": {},
   "source": [
    "http://manpagesfr.free.fr/man/man2/ioctl.2.html <br>"
   ]
  }
 ],
 "metadata": {
  "language_info": {
   "name": "python"
  }
 },
 "nbformat": 4,
 "nbformat_minor": 2
}
