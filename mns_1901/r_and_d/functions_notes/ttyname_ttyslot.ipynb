{
 "cells": [
  {
   "cell_type": "markdown",
   "metadata": {},
   "source": [
    "# ttyname et ttyslot\n",
    "---\n",
    "\n",
    "#### Ces fonctions semblent utiles pour obtenir des informations sur les terminaux. \n",
    "\n",
    "\\#include <unistd.h> <br>\n",
    "char *ttyname(int fd); <br>\n",
    "int ttyslot(void); <br>\n",
    "\n",
    "> ttyname renvoie un pointeur sur une chaîne de caractères qui contient le nom du terminal associé au descripteur de fichier fd. Utile de combiner les macros comme STDIN_FILENO, STDOUT_FILENO, STDERR_FILENO <br>\n",
    "> ttyslot renvoie l'index dans la table des terminaux qui correspond au terminal associé au descripteur de fichier fd. **Semble peu utile dans notre contexte**\n"
   ]
  },
  {
   "cell_type": "markdown",
   "metadata": {},
   "source": []
  }
 ],
 "metadata": {
  "language_info": {
   "name": "python"
  }
 },
 "nbformat": 4,
 "nbformat_minor": 2
}
